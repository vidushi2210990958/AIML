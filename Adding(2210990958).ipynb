{
 "cells": [
  {
   "cell_type": "code",
   "execution_count": 4,
   "id": "de4f5f7e-6cd3-44d8-a7c7-90325a212791",
   "metadata": {},
   "outputs": [
    {
     "data": {
      "text/html": [
       "<div>\n",
       "<style scoped>\n",
       "    .dataframe tbody tr th:only-of-type {\n",
       "        vertical-align: middle;\n",
       "    }\n",
       "\n",
       "    .dataframe tbody tr th {\n",
       "        vertical-align: top;\n",
       "    }\n",
       "\n",
       "    .dataframe thead th {\n",
       "        text-align: right;\n",
       "    }\n",
       "</style>\n",
       "<table border=\"1\" class=\"dataframe\">\n",
       "  <thead>\n",
       "    <tr style=\"text-align: right;\">\n",
       "      <th></th>\n",
       "      <th>x</th>\n",
       "      <th>y</th>\n",
       "      <th>sum</th>\n",
       "    </tr>\n",
       "  </thead>\n",
       "  <tbody>\n",
       "    <tr>\n",
       "      <th>0</th>\n",
       "      <td>1.0</td>\n",
       "      <td>1.0</td>\n",
       "      <td>2.0</td>\n",
       "    </tr>\n",
       "    <tr>\n",
       "      <th>1</th>\n",
       "      <td>4.0</td>\n",
       "      <td>4.0</td>\n",
       "      <td>8.0</td>\n",
       "    </tr>\n",
       "    <tr>\n",
       "      <th>2</th>\n",
       "      <td>6.0</td>\n",
       "      <td>6.0</td>\n",
       "      <td>12.0</td>\n",
       "    </tr>\n",
       "    <tr>\n",
       "      <th>3</th>\n",
       "      <td>10.0</td>\n",
       "      <td>10.0</td>\n",
       "      <td>20.0</td>\n",
       "    </tr>\n",
       "    <tr>\n",
       "      <th>4</th>\n",
       "      <td>30.0</td>\n",
       "      <td>30.0</td>\n",
       "      <td>60.0</td>\n",
       "    </tr>\n",
       "    <tr>\n",
       "      <th>5</th>\n",
       "      <td>23.0</td>\n",
       "      <td>43.0</td>\n",
       "      <td>66.0</td>\n",
       "    </tr>\n",
       "    <tr>\n",
       "      <th>6</th>\n",
       "      <td>55.0</td>\n",
       "      <td>80.0</td>\n",
       "      <td>135.0</td>\n",
       "    </tr>\n",
       "    <tr>\n",
       "      <th>7</th>\n",
       "      <td>100.0</td>\n",
       "      <td>22.0</td>\n",
       "      <td>122.0</td>\n",
       "    </tr>\n",
       "    <tr>\n",
       "      <th>8</th>\n",
       "      <td>23.0</td>\n",
       "      <td>45.0</td>\n",
       "      <td>68.0</td>\n",
       "    </tr>\n",
       "    <tr>\n",
       "      <th>9</th>\n",
       "      <td>56.0</td>\n",
       "      <td>78.0</td>\n",
       "      <td>134.0</td>\n",
       "    </tr>\n",
       "    <tr>\n",
       "      <th>10</th>\n",
       "      <td>13.0</td>\n",
       "      <td>78.0</td>\n",
       "      <td>91.0</td>\n",
       "    </tr>\n",
       "    <tr>\n",
       "      <th>11</th>\n",
       "      <td>300.0</td>\n",
       "      <td>34.0</td>\n",
       "      <td>334.0</td>\n",
       "    </tr>\n",
       "    <tr>\n",
       "      <th>12</th>\n",
       "      <td>12.5</td>\n",
       "      <td>56.7</td>\n",
       "      <td>69.2</td>\n",
       "    </tr>\n",
       "    <tr>\n",
       "      <th>13</th>\n",
       "      <td>23.6</td>\n",
       "      <td>89.3</td>\n",
       "      <td>112.9</td>\n",
       "    </tr>\n",
       "    <tr>\n",
       "      <th>14</th>\n",
       "      <td>67.8</td>\n",
       "      <td>87.9</td>\n",
       "      <td>155.7</td>\n",
       "    </tr>\n",
       "    <tr>\n",
       "      <th>15</th>\n",
       "      <td>200.0</td>\n",
       "      <td>700.0</td>\n",
       "      <td>900.0</td>\n",
       "    </tr>\n",
       "    <tr>\n",
       "      <th>16</th>\n",
       "      <td>203.6</td>\n",
       "      <td>67.9</td>\n",
       "      <td>271.5</td>\n",
       "    </tr>\n",
       "    <tr>\n",
       "      <th>17</th>\n",
       "      <td>400.0</td>\n",
       "      <td>45.7</td>\n",
       "      <td>445.7</td>\n",
       "    </tr>\n",
       "    <tr>\n",
       "      <th>18</th>\n",
       "      <td>34.6</td>\n",
       "      <td>56.9</td>\n",
       "      <td>91.5</td>\n",
       "    </tr>\n",
       "    <tr>\n",
       "      <th>19</th>\n",
       "      <td>400.5</td>\n",
       "      <td>356.0</td>\n",
       "      <td>756.5</td>\n",
       "    </tr>\n",
       "    <tr>\n",
       "      <th>20</th>\n",
       "      <td>45.7</td>\n",
       "      <td>123.7</td>\n",
       "      <td>169.4</td>\n",
       "    </tr>\n",
       "    <tr>\n",
       "      <th>21</th>\n",
       "      <td>1000.0</td>\n",
       "      <td>3456.0</td>\n",
       "      <td>4456.0</td>\n",
       "    </tr>\n",
       "  </tbody>\n",
       "</table>\n",
       "</div>"
      ],
      "text/plain": [
       "         x       y     sum\n",
       "0      1.0     1.0     2.0\n",
       "1      4.0     4.0     8.0\n",
       "2      6.0     6.0    12.0\n",
       "3     10.0    10.0    20.0\n",
       "4     30.0    30.0    60.0\n",
       "5     23.0    43.0    66.0\n",
       "6     55.0    80.0   135.0\n",
       "7    100.0    22.0   122.0\n",
       "8     23.0    45.0    68.0\n",
       "9     56.0    78.0   134.0\n",
       "10    13.0    78.0    91.0\n",
       "11   300.0    34.0   334.0\n",
       "12    12.5    56.7    69.2\n",
       "13    23.6    89.3   112.9\n",
       "14    67.8    87.9   155.7\n",
       "15   200.0   700.0   900.0\n",
       "16   203.6    67.9   271.5\n",
       "17   400.0    45.7   445.7\n",
       "18    34.6    56.9    91.5\n",
       "19   400.5   356.0   756.5\n",
       "20    45.7   123.7   169.4\n",
       "21  1000.0  3456.0  4456.0"
      ]
     },
     "execution_count": 4,
     "metadata": {},
     "output_type": "execute_result"
    }
   ],
   "source": [
    "import pandas as pd\n",
    "\n",
    "df=pd.read_csv(\"add.csv\")\n",
    "df"
   ]
  },
  {
   "cell_type": "markdown",
   "id": "fef0685a-8511-4e15-b60d-ece1d0e6b5be",
   "metadata": {
    "jp-MarkdownHeadingCollapsed": true
   },
   "source": [
    "# HEAD"
   ]
  },
  {
   "cell_type": "code",
   "execution_count": 5,
   "id": "7924334a-8245-4d6e-b197-58a7806e4d6b",
   "metadata": {},
   "outputs": [
    {
     "data": {
      "text/html": [
       "<div>\n",
       "<style scoped>\n",
       "    .dataframe tbody tr th:only-of-type {\n",
       "        vertical-align: middle;\n",
       "    }\n",
       "\n",
       "    .dataframe tbody tr th {\n",
       "        vertical-align: top;\n",
       "    }\n",
       "\n",
       "    .dataframe thead th {\n",
       "        text-align: right;\n",
       "    }\n",
       "</style>\n",
       "<table border=\"1\" class=\"dataframe\">\n",
       "  <thead>\n",
       "    <tr style=\"text-align: right;\">\n",
       "      <th></th>\n",
       "      <th>x</th>\n",
       "      <th>y</th>\n",
       "      <th>sum</th>\n",
       "    </tr>\n",
       "  </thead>\n",
       "  <tbody>\n",
       "    <tr>\n",
       "      <th>0</th>\n",
       "      <td>1.0</td>\n",
       "      <td>1.0</td>\n",
       "      <td>2.0</td>\n",
       "    </tr>\n",
       "    <tr>\n",
       "      <th>1</th>\n",
       "      <td>4.0</td>\n",
       "      <td>4.0</td>\n",
       "      <td>8.0</td>\n",
       "    </tr>\n",
       "    <tr>\n",
       "      <th>2</th>\n",
       "      <td>6.0</td>\n",
       "      <td>6.0</td>\n",
       "      <td>12.0</td>\n",
       "    </tr>\n",
       "    <tr>\n",
       "      <th>3</th>\n",
       "      <td>10.0</td>\n",
       "      <td>10.0</td>\n",
       "      <td>20.0</td>\n",
       "    </tr>\n",
       "    <tr>\n",
       "      <th>4</th>\n",
       "      <td>30.0</td>\n",
       "      <td>30.0</td>\n",
       "      <td>60.0</td>\n",
       "    </tr>\n",
       "  </tbody>\n",
       "</table>\n",
       "</div>"
      ],
      "text/plain": [
       "      x     y   sum\n",
       "0   1.0   1.0   2.0\n",
       "1   4.0   4.0   8.0\n",
       "2   6.0   6.0  12.0\n",
       "3  10.0  10.0  20.0\n",
       "4  30.0  30.0  60.0"
      ]
     },
     "execution_count": 5,
     "metadata": {},
     "output_type": "execute_result"
    }
   ],
   "source": [
    "df.head(5)"
   ]
  },
  {
   "cell_type": "markdown",
   "id": "aacd57f5-b2dc-4818-8262-42297860aa9a",
   "metadata": {
    "jp-MarkdownHeadingCollapsed": true
   },
   "source": [
    "# TAIL"
   ]
  },
  {
   "cell_type": "code",
   "execution_count": 5,
   "id": "825b78f5-78fd-48ad-98ce-0c377de3e625",
   "metadata": {},
   "outputs": [
    {
     "data": {
      "text/html": [
       "<div>\n",
       "<style scoped>\n",
       "    .dataframe tbody tr th:only-of-type {\n",
       "        vertical-align: middle;\n",
       "    }\n",
       "\n",
       "    .dataframe tbody tr th {\n",
       "        vertical-align: top;\n",
       "    }\n",
       "\n",
       "    .dataframe thead th {\n",
       "        text-align: right;\n",
       "    }\n",
       "</style>\n",
       "<table border=\"1\" class=\"dataframe\">\n",
       "  <thead>\n",
       "    <tr style=\"text-align: right;\">\n",
       "      <th></th>\n",
       "      <th>x</th>\n",
       "      <th>y</th>\n",
       "      <th>sum</th>\n",
       "    </tr>\n",
       "  </thead>\n",
       "  <tbody>\n",
       "    <tr>\n",
       "      <th>17</th>\n",
       "      <td>400.0</td>\n",
       "      <td>45.7</td>\n",
       "      <td>445.7</td>\n",
       "    </tr>\n",
       "    <tr>\n",
       "      <th>18</th>\n",
       "      <td>34.6</td>\n",
       "      <td>56.9</td>\n",
       "      <td>91.5</td>\n",
       "    </tr>\n",
       "    <tr>\n",
       "      <th>19</th>\n",
       "      <td>400.5</td>\n",
       "      <td>356.0</td>\n",
       "      <td>756.5</td>\n",
       "    </tr>\n",
       "    <tr>\n",
       "      <th>20</th>\n",
       "      <td>45.7</td>\n",
       "      <td>123.7</td>\n",
       "      <td>169.4</td>\n",
       "    </tr>\n",
       "    <tr>\n",
       "      <th>21</th>\n",
       "      <td>1000.0</td>\n",
       "      <td>3456.0</td>\n",
       "      <td>4456.0</td>\n",
       "    </tr>\n",
       "  </tbody>\n",
       "</table>\n",
       "</div>"
      ],
      "text/plain": [
       "         x       y     sum\n",
       "17   400.0    45.7   445.7\n",
       "18    34.6    56.9    91.5\n",
       "19   400.5   356.0   756.5\n",
       "20    45.7   123.7   169.4\n",
       "21  1000.0  3456.0  4456.0"
      ]
     },
     "execution_count": 5,
     "metadata": {},
     "output_type": "execute_result"
    }
   ],
   "source": [
    "df.tail(5)"
   ]
  },
  {
   "cell_type": "markdown",
   "id": "223e8011-5234-4ee6-bdd3-858638820d22",
   "metadata": {
    "jp-MarkdownHeadingCollapsed": true
   },
   "source": [
    "# Pyplot Graph\n"
   ]
  },
  {
   "cell_type": "code",
   "execution_count": 18,
   "id": "7983865c-a5d5-49e1-a1e9-c26618e059ce",
   "metadata": {},
   "outputs": [
    {
     "data": {
      "text/plain": [
       "<matplotlib.collections.PathCollection at 0x29f2a95d6d0>"
      ]
     },
     "execution_count": 18,
     "metadata": {},
     "output_type": "execute_result"
    },
    {
     "data": {
      "image/png": "[encoded data removed]",
      "text/plain": [
       "<Figure size 640x480 with 1 Axes>"
      ]
     },
     "metadata": {},
     "output_type": "display_data"
    }
   ],
   "source": [
    "import matplotlib.pyplot as plt\n",
    "plt.scatter(df['y'],df['sum'])"
   ]
  },
  {
   "cell_type": "markdown",
   "id": "f2b9ec96-15d9-4d1e-828c-aec4a2f4391b",
   "metadata": {
    "jp-MarkdownHeadingCollapsed": true
   },
   "source": [
    "# Feature Engeneering"
   ]
  },
  {
   "cell_type": "code",
   "execution_count": 19,
   "id": "c09c2a09-31b1-462f-8e69-100c4f55090b",
   "metadata": {},
   "outputs": [
    {
     "name": "stdout",
     "output_type": "stream",
     "text": [
      "Matrix\n",
      "          x       y\n",
      "0      1.0     1.0\n",
      "1      4.0     4.0\n",
      "2      6.0     6.0\n",
      "3     10.0    10.0\n",
      "4     30.0    30.0\n",
      "5     23.0    43.0\n",
      "6     55.0    80.0\n",
      "7    100.0    22.0\n",
      "8     23.0    45.0\n",
      "9     56.0    78.0\n",
      "10    13.0    78.0\n",
      "11   300.0    34.0\n",
      "12    12.5    56.7\n",
      "13    23.6    89.3\n",
      "14    67.8    87.9\n",
      "15   200.0   700.0\n",
      "16   203.6    67.9\n",
      "17   400.0    45.7\n",
      "18    34.6    56.9\n",
      "19   400.5   356.0\n",
      "20    45.7   123.7\n",
      "21  1000.0  3456.0\n",
      "\n",
      "Sum\n",
      " 0        2.0\n",
      "1        8.0\n",
      "2       12.0\n",
      "3       20.0\n",
      "4       60.0\n",
      "5       66.0\n",
      "6      135.0\n",
      "7      122.0\n",
      "8       68.0\n",
      "9      134.0\n",
      "10      91.0\n",
      "11     334.0\n",
      "12      69.2\n",
      "13     112.9\n",
      "14     155.7\n",
      "15     900.0\n",
      "16     271.5\n",
      "17     445.7\n",
      "18      91.5\n",
      "19     756.5\n",
      "20     169.4\n",
      "21    4456.0\n",
      "Name: sum, dtype: float64\n"
     ]
    }
   ],
   "source": [
    "x = df[['x','y']]\n",
    "y = df['sum']\n",
    "print('Matrix\\n',x)\n",
    "print(\"\\nSum\\n\",y)"
   ]
  },
  {
   "cell_type": "markdown",
   "id": "7898db6e-0201-4ccc-8d4d-71b5b323d190",
   "metadata": {
    "jp-MarkdownHeadingCollapsed": true
   },
   "source": [
    "# Train Test Split\n"
   ]
  },
  {
   "cell_type": "code",
   "execution_count": 28,
   "id": "4979af62-cedd-4021-9f94-29e4a28c2b97",
   "metadata": {},
   "outputs": [
    {
     "name": "stdout",
     "output_type": "stream",
     "text": [
      "X_train\n",
      "          x       y\n",
      "2      6.0     6.0\n",
      "18    34.6    56.9\n",
      "15   200.0   700.0\n",
      "1      4.0     4.0\n",
      "19   400.5   356.0\n",
      "0      1.0     1.0\n",
      "16   203.6    67.9\n",
      "21  1000.0  3456.0\n",
      "8     23.0    45.0\n",
      "5     23.0    43.0\n",
      "9     56.0    78.0\n",
      "17   400.0    45.7\n",
      "20    45.7   123.7\n",
      "3     10.0    10.0\n",
      "\n",
      "X_test\n",
      "         x     y\n",
      "6    55.0  80.0\n",
      "7   100.0  22.0\n",
      "4    30.0  30.0\n",
      "11  300.0  34.0\n",
      "13   23.6  89.3\n",
      "12   12.5  56.7\n",
      "14   67.8  87.9\n",
      "10   13.0  78.0\n",
      "\n",
      "Y_train\n",
      " 2       12.0\n",
      "18      91.5\n",
      "15     900.0\n",
      "1        8.0\n",
      "19     756.5\n",
      "0        2.0\n",
      "16     271.5\n",
      "21    4456.0\n",
      "8       68.0\n",
      "5       66.0\n",
      "9      134.0\n",
      "17     445.7\n",
      "20     169.4\n",
      "3       20.0\n",
      "Name: sum, dtype: float64\n",
      "\n",
      "Y_test\n",
      " 6     135.0\n",
      "7     122.0\n",
      "4      60.0\n",
      "11    334.0\n",
      "13    112.9\n",
      "12     69.2\n",
      "14    155.7\n",
      "10     91.0\n",
      "Name: sum, dtype: float64\n"
     ]
    }
   ],
   "source": [
    "from sklearn.model_selection import train_test_split\n",
    "X = df[['x','y']]\n",
    "Y = df['sum']\n",
    "\n",
    "X_train,X_test,Y_train,Y_test=train_test_split(X,Y, test_size=0.33,random_state=8)\n",
    "print('X_train\\n',X_train)\n",
    "print(\"\\nX_test\\n\",X_test)\n",
    "print('\\nY_train\\n',Y_train)\n",
    "print(\"\\nY_test\\n\",Y_test)"
   ]
  },
  {
   "cell_type": "markdown",
   "id": "ebe002c5-b5cb-4094-baf4-55aea3f803e2",
   "metadata": {
    "jp-MarkdownHeadingCollapsed": true
   },
   "source": [
    "# Linear Regression"
   ]
  },
  {
   "cell_type": "code",
   "execution_count": null,
   "id": "c3111297-531e-40ff-92c1-8b7bba3ef516",
   "metadata": {},
   "outputs": [],
   "source": [
    "from sklearn.linear_model import LinearRegression\n",
    "model=LinearRegression()\n",
    "model.fit(X_train,Y_train)"
   ]
  },
  {
   "cell_type": "markdown",
   "id": "39fa5885-dee1-4a4c-ada1-2729b2a0d4c7",
   "metadata": {
    "jp-MarkdownHeadingCollapsed": true
   },
   "source": [
    "# Check Model Prediction Performance"
   ]
  },
  {
   "cell_type": "code",
   "execution_count": 32,
   "id": "b444642a-2fa2-483e-bd33-bda5b8fcb3fb",
   "metadata": {},
   "outputs": [
    {
     "data": {
      "text/plain": [
       "1.0"
      ]
     },
     "execution_count": 32,
     "metadata": {},
     "output_type": "execute_result"
    }
   ],
   "source": [
    "model.score(X_train,Y_train)\n",
    "model.score(X_test,Y_test)"
   ]
  },
  {
   "cell_type": "markdown",
   "id": "c32aaa9e-04e9-4d15-82a6-abcfbbed399b",
   "metadata": {
    "jp-MarkdownHeadingCollapsed": true
   },
   "source": [
    "# Comparing the Result"
   ]
  },
  {
   "cell_type": "code",
   "execution_count": 37,
   "id": "1a8ac5c9-7593-44f6-ad30-32f20c11c914",
   "metadata": {},
   "outputs": [
    {
     "data": {
      "text/html": [
       "<div>\n",
       "<style scoped>\n",
       "    .dataframe tbody tr th:only-of-type {\n",
       "        vertical-align: middle;\n",
       "    }\n",
       "\n",
       "    .dataframe tbody tr th {\n",
       "        vertical-align: top;\n",
       "    }\n",
       "\n",
       "    .dataframe thead th {\n",
       "        text-align: right;\n",
       "    }\n",
       "</style>\n",
       "<table border=\"1\" class=\"dataframe\">\n",
       "  <thead>\n",
       "    <tr style=\"text-align: right;\">\n",
       "      <th></th>\n",
       "      <th>Actual</th>\n",
       "      <th>Prediction</th>\n",
       "    </tr>\n",
       "  </thead>\n",
       "  <tbody>\n",
       "    <tr>\n",
       "      <th>6</th>\n",
       "      <td>135.0</td>\n",
       "      <td>135.0</td>\n",
       "    </tr>\n",
       "    <tr>\n",
       "      <th>7</th>\n",
       "      <td>122.0</td>\n",
       "      <td>122.0</td>\n",
       "    </tr>\n",
       "    <tr>\n",
       "      <th>4</th>\n",
       "      <td>60.0</td>\n",
       "      <td>60.0</td>\n",
       "    </tr>\n",
       "    <tr>\n",
       "      <th>11</th>\n",
       "      <td>334.0</td>\n",
       "      <td>334.0</td>\n",
       "    </tr>\n",
       "    <tr>\n",
       "      <th>13</th>\n",
       "      <td>112.9</td>\n",
       "      <td>112.9</td>\n",
       "    </tr>\n",
       "    <tr>\n",
       "      <th>12</th>\n",
       "      <td>69.2</td>\n",
       "      <td>69.2</td>\n",
       "    </tr>\n",
       "    <tr>\n",
       "      <th>14</th>\n",
       "      <td>155.7</td>\n",
       "      <td>155.7</td>\n",
       "    </tr>\n",
       "    <tr>\n",
       "      <th>10</th>\n",
       "      <td>91.0</td>\n",
       "      <td>91.0</td>\n",
       "    </tr>\n",
       "  </tbody>\n",
       "</table>\n",
       "</div>"
      ],
      "text/plain": [
       "    Actual  Prediction\n",
       "6    135.0       135.0\n",
       "7    122.0       122.0\n",
       "4     60.0        60.0\n",
       "11   334.0       334.0\n",
       "13   112.9       112.9\n",
       "12    69.2        69.2\n",
       "14   155.7       155.7\n",
       "10    91.0        91.0"
      ]
     },
     "execution_count": 37,
     "metadata": {},
     "output_type": "execute_result"
    }
   ],
   "source": [
    "import pandas as pd\n",
    "y_pred= model.predict(X_test)\n",
    "y_pred\n",
    "df=pd.DataFrame({'Actual':Y_test,'Prediction':y_pred})\n",
    "df"
   ]
  },
  {
   "cell_type": "markdown",
   "id": "7ea514ed-8b84-4742-a580-b999b2a52304",
   "metadata": {
    "jp-MarkdownHeadingCollapsed": true
   },
   "source": [
    "# Prediction"
   ]
  },
  {
   "cell_type": "code",
   "execution_count": 45,
   "id": "bf0139f1-e211-465a-9a34-b6dc2a27aa52",
   "metadata": {},
   "outputs": [
    {
     "name": "stderr",
     "output_type": "stream",
     "text": [
      "C:\\Users\\shubh\\AppData\\Local\\Programs\\Python\\Python312\\Lib\\site-packages\\sklearn\\base.py:493: UserWarning: X does not have valid feature names, but LinearRegression was fitted with feature names\n",
      "  warnings.warn(\n"
     ]
    },
    {
     "data": {
      "text/plain": [
       "array([69.9])"
      ]
     },
     "execution_count": 45,
     "metadata": {},
     "output_type": "execute_result"
    }
   ],
   "source": [
    "model.predict([[59.2,10.7]])"
   ]
  },
  {
   "cell_type": "code",
   "execution_count": null,
   "id": "b7f17398-cfc6-437d-9239-dbaf59918f86",
   "metadata": {},
   "outputs": [],
   "source": []
  }
 ],
 "metadata": {
  "kernelspec": {
   "display_name": "Python 3 (ipykernel)",
   "language": "python",
   "name": "python3"
  },
  "language_info": {
   "codemirror_mode": {
    "name": "ipython",
    "version": 3
   },
   "file_extension": ".py",
   "mimetype": "text/x-python",
   "name": "python",
   "nbconvert_exporter": "python",
   "pygments_lexer": "ipython3",
   "version": "3.12.1"
  }
 },
 "nbformat": 4,
 "nbformat_minor": 5
}
